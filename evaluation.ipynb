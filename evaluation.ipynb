{
 "cells": [
  {
   "cell_type": "markdown",
   "metadata": {},
   "source": [
    "# Evaluation\n",
    "**Bill Xia**<br>\n",
    "CS 136: Statistical Pattern Recognition<br>\n",
    "Created: 4/23/24\n",
    "\n",
    "**Purpose:** A Python notebook that evaluates the baseline and upgrade models for a statistical biomedical term identifier."
   ]
  },
  {
   "cell_type": "code",
   "execution_count": 1,
   "metadata": {},
   "outputs": [],
   "source": [
    "# Imports\n",
    "import json\n",
    "import random\n",
    "from baseline import IdentifierBaseline\n",
    "from upgrade import IdentifierUpgrade\n",
    "import numpy as np\n",
    "import matplotlib.pyplot as plt"
   ]
  },
  {
   "cell_type": "markdown",
   "metadata": {},
   "source": [
    "## Preparing Data & Eval Method"
   ]
  },
  {
   "cell_type": "code",
   "execution_count": 2,
   "metadata": {},
   "outputs": [],
   "source": [
    "# Loading data.\n",
    "fp = open('labeledAbstractSentences.json')\n",
    "data = json.load(fp)\n",
    "fp.close()\n",
    "\n",
    "# Shuffling data. Keep unshuffled data for separate experiment.\n",
    "random.seed(123)\n",
    "data_list    = list(data.items())\n",
    "data_unshuff = data_list.copy()\n",
    "random.shuffle(data_list)\n",
    "\n",
    "# Splitting data.\n",
    "data_size = len(data_list)\n",
    "cutoff_1  = int(data_size*0.85)\n",
    "cutoff_2  = int((data_size*0.85) + (data_size*0.05))\n",
    "\n",
    "training   = data_list[         : cutoff_1]\n",
    "validation = data_list[cutoff_1 : cutoff_2]\n",
    "# testing    = data_list[cutoff_2 :         ]\n",
    "testing    = data_list[cutoff_1 :         ]\n",
    "\n",
    "train_unshuff = data_unshuff[         : cutoff_1]\n",
    "valid_unshuff = data_unshuff[cutoff_1 : cutoff_2]\n",
    "# test_unshuff  = data_unshuff[cutoff_2 :         ]\n",
    "test_unshuff  = data_unshuff[cutoff_1 :         ]"
   ]
  },
  {
   "cell_type": "code",
   "execution_count": 3,
   "metadata": {},
   "outputs": [],
   "source": [
    "# Function that takes evaluates a model given some data..\n",
    "def eval_model(model, test_data):\n",
    "    '''\n",
    "    Returns TPs, TNs, FPs, FNs\n",
    "    `test_data`is a list of sentence-label pairs.\n",
    "    '''\n",
    "\n",
    "    # Initialize return values.\n",
    "    tps, tns, fps, fns = 0.0, 0.0, 0.0, 0.0\n",
    "    unseen_words, total_words = 0.0, 0.0\n",
    "\n",
    "    for sent, labs in test_data:\n",
    "\n",
    "        # Collect predictions as well as unseen word data.\n",
    "        pred_labs, curr_unseen_words, curr_total_words = model.predict(sent)\n",
    "\n",
    "        # Update unseen_words and total_words.\n",
    "        unseen_words += curr_unseen_words\n",
    "        total_words  += curr_total_words\n",
    "\n",
    "        assert(len(labs) == len(pred_labs))\n",
    "        for idx, (actual, pred) in enumerate(zip(labs, pred_labs)):\n",
    "            if model.label_to_int(actual) == pred:\n",
    "                if pred == 0:\n",
    "                    tns += 1\n",
    "                else:\n",
    "                    tps += 1\n",
    "            else:\n",
    "                if pred == 0:\n",
    "                    fns += 1\n",
    "                    # print(f'\"{sent.lower().strip().split()[idx]}\" is in vocab: {sent.lower().strip().split()[idx] in model.vocabulary}')\n",
    "                    # print(f'In vocab: {sent.lower().strip().split()[idx] in model.vocabulary}')\n",
    "                else:\n",
    "                    fps += 1\n",
    "    return tps, tns, fps, fns, unseen_words / total_words"
   ]
  },
  {
   "cell_type": "markdown",
   "metadata": {},
   "source": [
    "## Baseline Evaluation\n",
    "### Training the Baseline"
   ]
  },
  {
   "cell_type": "code",
   "execution_count": 4,
   "metadata": {},
   "outputs": [],
   "source": [
    "identifier = IdentifierBaseline()\n",
    "identifier.train(training)"
   ]
  },
  {
   "cell_type": "markdown",
   "metadata": {},
   "source": [
    "### Testing the Baseline"
   ]
  },
  {
   "cell_type": "code",
   "execution_count": 5,
   "metadata": {},
   "outputs": [],
   "source": [
    "# Evaluating.\n",
    "tps, tns, fps, fns, usp = eval_model(identifier, testing)"
   ]
  },
  {
   "cell_type": "code",
   "execution_count": 6,
   "metadata": {},
   "outputs": [
    {
     "name": "stdout",
     "output_type": "stream",
     "text": [
      "Unseen Percentage: 6.1886%\n",
      "TPS: 274.0\tAccuracy: 0.9693\n",
      "TNS: 24394.0\tPrecision: 0.6816\n",
      "FPS: 128.0\tRecall: 0.2953\n",
      "FNS: 654.0\tF1: 0.412\n"
     ]
    }
   ],
   "source": [
    "# Computing metrics.\n",
    "acc  = (tps+tns) / (tps + tns + fps + fns)  # How often is it correct?\n",
    "prec = tps / (tps + fps)                    # How often are terms correct?\n",
    "rec  = tps / (tps + fns)                    # How often does it not miss?\n",
    "f1   = 2 * (prec * rec) / (prec + rec)\n",
    "\n",
    "# Printing results.\n",
    "print(f'Unseen Percentage: {round(usp * 100, 4)}%')\n",
    "print(f'TPS: {tps}\\tAccuracy: {round(acc, 4)}')\n",
    "print(f'TNS: {tns}\\tPrecision: {round(prec, 4)}')\n",
    "print(f'FPS: {fps}\\tRecall: {round(rec, 4)}')\n",
    "print(f'FNS: {fns}\\tF1: {round(f1, 4)}')"
   ]
  },
  {
   "cell_type": "markdown",
   "metadata": {},
   "source": [
    "### With Unshuffled Data"
   ]
  },
  {
   "cell_type": "code",
   "execution_count": 7,
   "metadata": {},
   "outputs": [],
   "source": [
    "# Training and evaluating on unshuffled data. This data has a higher proportion\n",
    "# of unseen words in the validation/testing data than in the shuffled data.\n",
    "identifier_unshuff = IdentifierBaseline()\n",
    "identifier_unshuff.train(train_unshuff)\n",
    "tps_us, tns_us, fps_us, fns_us, usp_us = eval_model(identifier_unshuff, test_unshuff)"
   ]
  },
  {
   "cell_type": "code",
   "execution_count": 8,
   "metadata": {},
   "outputs": [
    {
     "name": "stdout",
     "output_type": "stream",
     "text": [
      "Unseen Percentage: 11.3345%\n",
      "TPS: 54.0\tAccuracy: 0.9752\n",
      "TNS: 24106.0\tPrecision: 0.3724\n",
      "FPS: 91.0\tRecall: 0.0936\n",
      "FNS: 523.0\tF1: 0.1496\n"
     ]
    }
   ],
   "source": [
    "# Computing metrics.\n",
    "acc_us  = (tps_us+tns_us) / (tps_us + tns_us + fps_us + fns_us)\n",
    "prec_us = tps_us / (tps_us + fps_us)\n",
    "rec_us  = tps_us / (tps_us + fns_us)\n",
    "f1_us   = 2 * (prec_us * rec_us) / (prec_us + rec_us)\n",
    "\n",
    "# Printing results.\n",
    "print(f'Unseen Percentage: {round(usp_us * 100, 4)}%')\n",
    "print(f'TPS: {tps_us}\\tAccuracy: {round(acc_us, 4)}')\n",
    "print(f'TNS: {tns_us}\\tPrecision: {round(prec_us, 4)}')\n",
    "print(f'FPS: {fps_us}\\tRecall: {round(rec_us, 4)}')\n",
    "print(f'FNS: {fns_us}\\tF1: {round(f1_us, 4)}')"
   ]
  },
  {
   "cell_type": "markdown",
   "metadata": {},
   "source": [
    "## Upgrade Evaluation\n",
    "### Training the Upgrade"
   ]
  },
  {
   "cell_type": "code",
   "execution_count": 9,
   "metadata": {},
   "outputs": [],
   "source": [
    "identifier_upgrade = IdentifierUpgrade()\n",
    "identifier_upgrade.train(training)"
   ]
  },
  {
   "cell_type": "markdown",
   "metadata": {},
   "source": [
    "### Testing the Upgrade"
   ]
  },
  {
   "cell_type": "code",
   "execution_count": 10,
   "metadata": {},
   "outputs": [],
   "source": [
    "# Evaluating.\n",
    "tps_u, tns_u, fps_u, fns_u, usp_u = eval_model(identifier_upgrade, testing)"
   ]
  },
  {
   "cell_type": "code",
   "execution_count": 11,
   "metadata": {},
   "outputs": [
    {
     "name": "stdout",
     "output_type": "stream",
     "text": [
      "Unseen Percentage: 6.1886%\n",
      "TPS: 245.0\tAccuracy: 0.9692\n",
      "TNS: 24421.0\tPrecision: 0.7081\n",
      "FPS: 101.0\tRecall: 0.264\n",
      "FNS: 683.0\tF1: 0.3846\n"
     ]
    }
   ],
   "source": [
    "# Computing metrics.\n",
    "acc_u  = (tps_u+tns_u) / (tps_u + tns_u + fps_u + fns_u)\n",
    "prec_u = tps_u / (tps_u + fps_u)\n",
    "rec_u  = tps_u / (tps_u + fns_u)\n",
    "f1_u   = 2 * (prec_u * rec_u) / (prec_u + rec_u)\n",
    "\n",
    "# Printing results.\n",
    "print(f'Unseen Percentage: {round(usp_u * 100, 4)}%')\n",
    "print(f'TPS: {tps_u}\\tAccuracy: {round(acc_u, 4)}')\n",
    "print(f'TNS: {tns_u}\\tPrecision: {round(prec_u, 4)}')\n",
    "print(f'FPS: {fps_u}\\tRecall: {round(rec_u, 4)}')\n",
    "print(f'FNS: {fns_u}\\tF1: {round(f1_u, 4)}')"
   ]
  },
  {
   "cell_type": "markdown",
   "metadata": {},
   "source": [
    "### With Unshuffled Data"
   ]
  },
  {
   "cell_type": "code",
   "execution_count": 12,
   "metadata": {},
   "outputs": [],
   "source": [
    "# Training on unshuffled data.\n",
    "identifier_unshuff = IdentifierUpgrade()\n",
    "identifier_unshuff.train(train_unshuff)"
   ]
  },
  {
   "cell_type": "code",
   "execution_count": 13,
   "metadata": {},
   "outputs": [],
   "source": [
    "# Evaluating.\n",
    "tps_u_us, tns_u_us, fps_u_us, fns_u_us, usp_u_us = eval_model(identifier_unshuff, test_unshuff)"
   ]
  },
  {
   "cell_type": "code",
   "execution_count": 14,
   "metadata": {},
   "outputs": [
    {
     "name": "stdout",
     "output_type": "stream",
     "text": [
      "Unseen Percentage: 11.3345%\n",
      "TPS: 42.0\tAccuracy: 0.9754\n",
      "TNS: 24123.0\tPrecision: 0.3652\n",
      "FPS: 73.0\tRecall: 0.0727\n",
      "FNS: 536.0\tF1: 0.1212\n"
     ]
    }
   ],
   "source": [
    "# Computing metrics.\n",
    "acc_u_us  = (tps_u_us+tns_u_us) / (tps_u_us + tns_u_us + fps_u_us + fns_u_us)\n",
    "prec_u_us = tps_u_us / (tps_u_us + fps_u_us)\n",
    "rec_u_us  = tps_u_us / (tps_u_us+ fns_u_us)\n",
    "f1_u_us   = 2 * (prec_u_us * rec_u_us) / (prec_u_us + rec_u_us)\n",
    "\n",
    "# Printing results.\n",
    "print(f'Unseen Percentage: {round(usp_u_us * 100, 4)}%')\n",
    "print(f'TPS: {tps_u_us}\\tAccuracy: {round(acc_u_us, 4)}')\n",
    "print(f'TNS: {tns_u_us}\\tPrecision: {round(prec_u_us, 4)}')\n",
    "print(f'FPS: {fps_u_us}\\tRecall: {round(rec_u_us, 4)}')\n",
    "print(f'FNS: {fns_u_us}\\tF1: {round(f1_u_us, 4)}')"
   ]
  },
  {
   "cell_type": "markdown",
   "metadata": {},
   "source": [
    "## Visualizing Results"
   ]
  },
  {
   "cell_type": "code",
   "execution_count": 15,
   "metadata": {},
   "outputs": [
    {
     "data": {
      "image/png": "[encoded data removed]",
      "text/plain": [
       "<Figure size 800x600 with 1 Axes>"
      ]
     },
     "metadata": {},
     "output_type": "display_data"
    }
   ],
   "source": [
    "models = ('Baseline', 'Baseline-Unshuffled', 'Upgrade', 'Upgrade-Unshuffled')\n",
    "scores = {\n",
    "    'Precision': np.array([round(prec, 4), round(prec_us, 4), round(prec_u, 4), round(prec_u_us, 4)]) * 100,\n",
    "    'Recall': np.array([round(rec, 4), round(rec_us, 4), round(rec_u, 4), round(rec_u_us, 4)]) * 100,\n",
    "    'F1 Score': np.array([round(f1, 4), round(f1_us, 4), round(f1_u, 4), round(f1_u_us, 4)]) * 100\n",
    "}\n",
    "\n",
    "# metrics = ('Precision', 'Recall', 'F1')\n",
    "# scores = {\n",
    "#     'Baseline': [round(prec, 4), round(rec, 4), round(f1, 4)],\n",
    "#     'Baseline-Unshuffled': [round(prec_us, 4), round(rec_us, 4), round(f1_us, 4)],\n",
    "#     'Upgrade': [round(prec_u, 4), round(rec_u, 4), round(f1_u, 4)],\n",
    "#     'Upgrade-Unshuffled': [round(prec_u_us, 4), round(rec_u_us, 4), round(f1_u_us, 4)]\n",
    "# }\n",
    "\n",
    "x = np.arange(len(models))\n",
    "width = 0.25  # the width of the bars\n",
    "multiplier = 0\n",
    "\n",
    "fig, ax = plt.subplots(figsize=(8,6), layout='constrained')\n",
    "\n",
    "for attribute, measurement in scores.items():\n",
    "    offset = width * multiplier\n",
    "    rects = ax.bar(x + offset, measurement, width, label=attribute)\n",
    "    ax.bar_label(rects, padding=3, fontsize=10)\n",
    "    multiplier += 1\n",
    "\n",
    "# Add some text for labels, title and custom x-axis tick labels, etc.\n",
    "ax.set_ylabel('Performance (%)')\n",
    "ax.set_title('Model Performance with Shuffled vs Unshuffled Training Data')\n",
    "ax.set_xticks(x + width, models)\n",
    "ax.legend(loc='upper left', ncols=4)\n",
    "ax.set_ylim(0, 100)\n",
    "\n",
    "plt.show()"
   ]
  }
 ],
 "metadata": {
  "kernelspec": {
   "display_name": "Python 3",
   "language": "python",
   "name": "python3"
  },
  "language_info": {
   "codemirror_mode": {
    "name": "ipython",
    "version": 3
   },
   "file_extension": ".py",
   "mimetype": "text/x-python",
   "name": "python",
   "nbconvert_exporter": "python",
   "pygments_lexer": "ipython3",
   "version": "3.12.2"
  }
 },
 "nbformat": 4,
 "nbformat_minor": 2
}
